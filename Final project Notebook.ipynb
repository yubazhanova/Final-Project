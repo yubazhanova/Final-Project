{
 "cells": [
  {
   "cell_type": "markdown",
   "id": "7ed73b7f",
   "metadata": {},
   "source": [
    "# Введение"
   ]
  },
  {
   "cell_type": "markdown",
   "id": "71a12975",
   "metadata": {},
   "source": [
    "В этом проекте мы проведем анализ данных об оценках, пролученных на международных экзаменах по английскому языку Cambridge English Exams. Мы рассмотрим только экзамены по общему английскому для подростков и взрослых. Детские экзамены, экзамены по профессиональному английскому, а также квалификации по методике преподавания английского языка, рассмотрены не будут, так как формат их проведения и оценивания значительно отличается.\n",
    "\n",
    "Мы рассмотрим восемь экзаменов:\n",
    "\n",
    "A2 Key general\n",
    "\n",
    "A2 Key for schools\n",
    "\n",
    "B1 Preliminary general\n",
    "\n",
    "B1 Preliminary for Schools\n",
    "\n",
    "B2 First general\n",
    "\n",
    "B2 First for Schools\n",
    "\n",
    "C1 Advanced\n",
    "\n",
    "C2 Proficiency\n",
    "\n",
    "Формат экзаменов схожий, перед регистрацией на экзамен, кандидат выбирает экзамен согласно своему уровню владению языком. За все экзамены можно получить одну из пяти оценок:\n",
    "\n",
    "Grade A - самая высокая оценка, кандидат получает сертификат с уровнем на один выше уровня экзамена. Например, кандидат, получивший Grade A на экзамене B2 First general получит сертивикат с уровнем С1.\n",
    "\n",
    "Grade B - оценка above standard, кандидат получает сертификат с уровнем экзамена. Например, кандидат, получивший Grade B на экзамене B2 First general получит сертивикат с уровнем B2.\n",
    "\n",
    "Grade C - оценка to standard, кандидат получает сертификат с уровнем экзамена. Например, кандидат, получивший Grade С на экзамене B2 First general получит сертивикат с уровнем B2.\n",
    "\n",
    "CEFR (level) - оценка below standard, кандидат получает сертификат с уровнем на один нижее уровня экзамена. Например, кандидат, получивший below standard на экзамене B2 First general получит сертивикат с уровнем B1.\n",
    "\n",
    "Fail - экзамен не сдан, сертификат не выдается.\n",
    "\n",
    "Все данные для анализа доступны на сайте Cambridge English Exams в разделе grade statistics: https://www.cambridgeenglish.org/english-research-group/quality-and-accountability/grade-statistics/. Данные публикуюся в процентном отношении, информация о количестве учатников экзаменов не доступна. В статистике по странам данные приведены по месту сдачи экзамена, а не по национальности кандидатов.\n",
    "\n",
    "В проекте мы проверим следующие гипотезы:\n",
    "1) Подростки сдают экзамены более успешно, чем взрослые кандидаты\n",
    "2) Наилучшие результаты экзаменов показывают в странах, где высокий уровень владения языком"
   ]
  },
  {
   "cell_type": "markdown",
   "id": "b3c1c5f4",
   "metadata": {},
   "source": [
    "# 1. Статистика оценок по годам (2011-2022)"
   ]
  },
  {
   "cell_type": "markdown",
   "id": "fc3f2922",
   "metadata": {},
   "source": [
    "Сравним доли получивших оценки (Grade A, Grade B, Grade C, lower level, Fail) на Cambridge English Exams в период с  2011 по 2022 годы."
   ]
  },
  {
   "cell_type": "code",
   "execution_count": 122,
   "id": "bda6a5d5",
   "metadata": {},
   "outputs": [
    {
     "name": "stdout",
     "output_type": "stream",
     "text": [
      "Requirement already satisfied: pandas in ./anaconda3/lib/python3.11/site-packages (1.5.3)\n",
      "Requirement already satisfied: matplotlib in ./anaconda3/lib/python3.11/site-packages (3.7.1)\n",
      "Requirement already satisfied: python-dateutil>=2.8.1 in ./anaconda3/lib/python3.11/site-packages (from pandas) (2.8.2)\n",
      "Requirement already satisfied: pytz>=2020.1 in ./anaconda3/lib/python3.11/site-packages (from pandas) (2022.7)\n",
      "Requirement already satisfied: numpy>=1.21.0 in ./anaconda3/lib/python3.11/site-packages (from pandas) (1.24.3)\n",
      "Requirement already satisfied: contourpy>=1.0.1 in ./anaconda3/lib/python3.11/site-packages (from matplotlib) (1.0.5)\n",
      "Requirement already satisfied: cycler>=0.10 in ./anaconda3/lib/python3.11/site-packages (from matplotlib) (0.11.0)\n",
      "Requirement already satisfied: fonttools>=4.22.0 in ./anaconda3/lib/python3.11/site-packages (from matplotlib) (4.25.0)\n",
      "Requirement already satisfied: kiwisolver>=1.0.1 in ./anaconda3/lib/python3.11/site-packages (from matplotlib) (1.4.4)\n",
      "Requirement already satisfied: packaging>=20.0 in ./anaconda3/lib/python3.11/site-packages (from matplotlib) (23.0)\n",
      "Requirement already satisfied: pillow>=6.2.0 in ./anaconda3/lib/python3.11/site-packages (from matplotlib) (9.4.0)\n",
      "Requirement already satisfied: pyparsing>=2.3.1 in ./anaconda3/lib/python3.11/site-packages (from matplotlib) (3.0.9)\n",
      "Requirement already satisfied: six>=1.5 in ./anaconda3/lib/python3.11/site-packages (from python-dateutil>=2.8.1->pandas) (1.16.0)\n",
      "Note: you may need to restart the kernel to use updated packages.\n"
     ]
    }
   ],
   "source": [
    "pip install pandas matplotlib"
   ]
  },
  {
   "cell_type": "markdown",
   "id": "cb43bf01",
   "metadata": {},
   "source": [
    "Для экзаменов A2 Key, B1 Preliminary, B2 First проводится два варианта экзамена: общий (например, A2 Key general) и  для подростков (например, A2 Key for Schools). Уровень сложности заданий не отличается, разница заключается в тематике предложенных заданий. Сравним результаты этих экзаменов, чтобы выяснить, кто достигает лучших результатов, подростки или взрослые. Начнем с экзамена A2 Key. "
   ]
  },
  {
   "cell_type": "code",
   "execution_count": null,
   "id": "29bebb75",
   "metadata": {},
   "outputs": [],
   "source": [
    "import pandas as pd\n",
    "import matplotlib.pyplot as plt\n",
    "\n",
    "# Чтение CSV-файла\n",
    "df = pd.read_csv('/Users/yubazhanova/Desktop/Python project/cambridge exams years/Key (A2 + A2 schools).csv')\n",
    "\n",
    "# Удаление пустых строк\n",
    "df.dropna(inplace=True)\n",
    "\n",
    "# Построение графиков\n",
    "years = df['year']\n",
    "grades = ['A2_Grade_A', 'A2_Grade_B', 'A2_Grade_C', 'A2_A1', 'A2_Fail', \n",
    "          'A2s_Grade_A', 'A2s_Grade_B', 'A2s_Grade_C', 'A2s_A2', 'A2s_Fail']\n",
    "\n",
    "for grade in grades:\n",
    "    plt.plot(years, df[grade], label=grade)\n",
    "\n",
    "plt.xlabel('Year')\n",
    "plt.ylabel('Number of Students')\n",
    "plt.title('Key (A2) and Key for Schools Grades Over the Years')\n",
    "plt.legend()\n",
    "plt.show()"
   ]
  },
  {
   "cell_type": "markdown",
   "id": "d80f56f5",
   "metadata": {},
   "source": [
    "В целом мы видим, что линии соотвествующих оценок за оба экзамена параллельны друг другу, хотя мы видим что процент получивших оценку Fail среди взрослых выше, чем среди подростков в течении всего периода, кроме 2014 года, что объясняется тем, что подростки, сдающие этот экзамен, как правило, целенаправлено к нему готовятся на дополнительных занятиях. Резкий рост процента несдавших экзамен обусловлен изменением формата в 2014 году, что могло повлиять на уровень и подготовки кандидатов и их уверенность в своих силах."
   ]
  },
  {
   "cell_type": "markdown",
   "id": "66715ce9",
   "metadata": {},
   "source": [
    "Экзамен B1 Preliminary так же проводится в двух вариантах. На графике видно, что больший процент подростков стабильно получает Grade A или Grade B, что объясняется тем, что они, в отличие от взрослых регулярно занимаются языком и постепенно сдают экзамены, поэтому они способны показать лучшие результаты, чем взрослые, которые зачастую идут на экзамен без подготовки.\n"
   ]
  },
  {
   "cell_type": "code",
   "execution_count": null,
   "id": "3519738b",
   "metadata": {},
   "outputs": [],
   "source": [
    "import pandas as pd\n",
    "import matplotlib.pyplot as plt\n",
    "\n",
    "# Чтение CSV-файла\n",
    "df = pd.read_csv('/Users/yubazhanova/Desktop/Python project/cambridge exams years/Preliminary (B1 + B1 schools).csv')\n",
    "\n",
    "# Удаление пустых строк\n",
    "df.dropna(inplace=True)\n",
    "\n",
    "# Построение графиков\n",
    "years = df['year']\n",
    "grades = ['B1_Grade_A', 'B1_Grade_B', 'B1_Grade_C', 'B1_A2', 'B1_Fail', \n",
    "          'B1s_Grade_A', 'B1s_Grade_B', 'B1s_Grade_C', 'B1s_A2', 'B1s_Fail']\n",
    "\n",
    "for grade in grades:\n",
    "    plt.plot(years, df[grade], label=grade)\n",
    "\n",
    "plt.xlabel('Year')\n",
    "plt.ylabel('Number of Students')\n",
    "plt.title('Preliminary (B1) and Preliminary for Schools Grades Over the Years')\n",
    "plt.legend()\n",
    "plt.show()"
   ]
  },
  {
   "cell_type": "markdown",
   "id": "c09a8a3b",
   "metadata": {},
   "source": [
    "В результатах экзамена B2 First наблюдаем такую же тенденцию: среди подростков значительно больше получают оценки Grade A и Grade B, и реже показывают низкие результаты.\n",
    "\n",
    "Таким образом, можно сделать вывод о том, что результы экзаменов for schools для всех экзаменов выше, чем для general, что объясняется тем, что экзамены for schools сдают школьники, которые регулярно в течении нескольких лет занимаются изучением английского языка с преподавателем, поэтому они знакомы с форматом экзамена и сдают экзамены подходящие им по уровню."
   ]
  },
  {
   "cell_type": "code",
   "execution_count": null,
   "id": "371dc50b",
   "metadata": {},
   "outputs": [],
   "source": [
    "import pandas as pd\n",
    "import matplotlib.pyplot as plt\n",
    "\n",
    "# Чтение CSV-файла\n",
    "df = pd.read_csv('/Users/yubazhanova/Desktop/Python project/cambridge exams years/First (B2 + B2 schools).csv')\n",
    "\n",
    "# Удаление пустых строк\n",
    "df.dropna(inplace=True)\n",
    "\n",
    "# Построение графиков\n",
    "years = df['year']\n",
    "grades = ['B2_Grade_A', 'B2_Grade_B', 'B2_Grade_C', 'B2_B1', 'B2_Fail', \n",
    "          'B2s_Grade_A', 'B2s_Grade_B', 'B2s_Grade_C', 'B2s_B1', 'B2s_Fail']\n",
    "\n",
    "for grade in grades:\n",
    "    plt.plot(years, df[grade], label=grade)\n",
    "\n",
    "plt.xlabel('Year')\n",
    "plt.ylabel('Number of Students')\n",
    "plt.title('First (B2) and First for Schools Grades Over the Years')\n",
    "plt.legend()\n",
    "plt.show()"
   ]
  },
  {
   "cell_type": "code",
   "execution_count": null,
   "id": "92cec802",
   "metadata": {},
   "outputs": [],
   "source": [
    "Рассмотрим теперь экзамены для подтверждения самых высоких уровней владения языком C1 Advanced и C2 Proficiency."
   ]
  },
  {
   "cell_type": "code",
   "execution_count": null,
   "id": "4dabe920",
   "metadata": {},
   "outputs": [],
   "source": [
    "import pandas as pd\n",
    "import matplotlib.pyplot as plt\n",
    "\n",
    "# Чтение CSV-файла\n",
    "df = pd.read_csv('/Users/yubazhanova/Desktop/Python project/cambridge exams years/Advanced (2011-2022).csv')\n",
    "\n",
    "# Удаление пустых строк\n",
    "df.dropna(inplace=True)\n",
    "\n",
    "# Построение графиков\n",
    "years = df['year']\n",
    "grades = ['Grade A', 'Grade B', 'Grade C', 'B2', 'Fail']\n",
    "\n",
    "for grade in grades:\n",
    "    plt.plot(years, df[grade], label=grade)\n",
    "\n",
    "plt.xlabel('Year')\n",
    "plt.ylabel('Number of Students')\n",
    "plt.title('Advanced (C1) Grades Over the Years')\n",
    "plt.legend()\n",
    "plt.show()"
   ]
  },
  {
   "cell_type": "code",
   "execution_count": 119,
   "id": "43ddecc3",
   "metadata": {},
   "outputs": [
    {
     "data": {
      "image/png": "[encoded data removed]",
      "text/plain": [
       "<Figure size 640x480 with 1 Axes>"
      ]
     },
     "metadata": {},
     "output_type": "display_data"
    }
   ],
   "source": [
    "import pandas as pd\n",
    "import matplotlib.pyplot as plt\n",
    "\n",
    "# Чтение CSV-файла\n",
    "df = pd.read_csv('/Users/yubazhanova/Desktop/Python project/cambridge exams years/CPE 2011-2022.csv')\n",
    "\n",
    "# Удаление пустых строк\n",
    "df.dropna(inplace=True)\n",
    "\n",
    "# Построение графиков\n",
    "years = df['year']\n",
    "grades = ['Grade A', 'Grade B', 'Grade C', 'C1', 'Fail']\n",
    "\n",
    "for grade in grades:\n",
    "    plt.plot(years, df[grade], label=grade)\n",
    "\n",
    "plt.xlabel('Year')\n",
    "plt.ylabel('Number of Students')\n",
    "plt.title('Proficiency (C2) Grades Over the Years')\n",
    "plt.legend()\n",
    "plt.show()"
   ]
  },
  {
   "cell_type": "markdown",
   "id": "9bb987a0",
   "metadata": {},
   "source": [
    "В среднем результаты экзамена C1 Advanced лучше, чем C2 Proficiency, что объясняется значительной разницей в уровне сложности заданий, при том что значительная доля кандидатов этих различий не осознает и сдает эти экзамены без подготовки. \n",
    "\n",
    "Можно также заметить, что почти во всех экзаменах ярко выражено увеличение доли низких оценок в период с с 2014 по 2016 год, что объясняется, изменением формата экзаменов, к которым наименее подготовленные кандидаты, вероятно, не были готовы."
   ]
  },
  {
   "cell_type": "markdown",
   "id": "74882561",
   "metadata": {},
   "source": [
    "# Статистика оценок по странам за 2022 год"
   ]
  },
  {
   "cell_type": "markdown",
   "id": "cbcd47e7",
   "metadata": {},
   "source": [
    "Рассмотрим распределение оценок по странам для экзамена C1 Advanced."
   ]
  },
  {
   "cell_type": "code",
   "execution_count": 11,
   "id": "745e37a2",
   "metadata": {},
   "outputs": [
    {
     "data": {
      "application/vnd.jupyter.widget-view+json": {
       "model_id": "c3e3651ac6dc42d19fa80e67d0800373",
       "version_major": 2,
       "version_minor": 0
      },
      "text/plain": [
       "interactive(children=(Dropdown(description='Выберите страну:', options=('Albania', 'Algeria', 'Andorra', 'Ango…"
      ]
     },
     "metadata": {},
     "output_type": "display_data"
    },
    {
     "data": {
      "text/plain": [
       "<function __main__.plot_pie_chart(country)>"
      ]
     },
     "execution_count": 11,
     "metadata": {},
     "output_type": "execute_result"
    }
   ],
   "source": [
    "import pandas as pd\n",
    "import matplotlib.pyplot as plt\n",
    "from ipywidgets import interact, widgets\n",
    "\n",
    "# Чтение CSV-файла\n",
    "df = pd.read_csv('/Users/yubazhanova/Desktop/Python project/cambridge csv страны/advanced.csv')\n",
    "\n",
    "# Удаление пустых строк\n",
    "df.dropna(inplace=True)\n",
    "\n",
    "# Создание списка для выбора страны\n",
    "country_dropdown = widgets.Dropdown(options=df['Location'].unique(), description='Выберите страну:')\n",
    "\n",
    "# Построение диаграммы\n",
    "def plot_pie_chart(country):\n",
    "    selected_country_data = df[df['Location'] == country]\n",
    "    grades = ['Grade A', 'Grade B', 'Grade C', 'B2', 'Fail']\n",
    "    grades_counts = selected_country_data[grades].iloc[0].tolist()\n",
    "    \n",
    "    plt.figure(figsize=(8, 8))\n",
    "    plt.pie(grades_counts, labels=grades, autopct='%1.1f%%', startangle=140)\n",
    "    plt.axis('equal')  \n",
    "    plt.title(f'Grade statistics for C1 Advanced in {country} in 2022')\n",
    "    plt.show()\n",
    "\n",
    "# Выбор страны\n",
    "interact(plot_pie_chart, country=country_dropdown)\n"
   ]
  },
  {
   "cell_type": "markdown",
   "id": "b8470168",
   "metadata": {},
   "source": [
    "Найдем страны, в которых наибольшая доля кандидатов получила каждую из оценок на экзамене C1 Advanced в 2022 году"
   ]
  },
  {
   "cell_type": "code",
   "execution_count": 21,
   "id": "4a90c27a",
   "metadata": {},
   "outputs": [
    {
     "name": "stdout",
     "output_type": "stream",
     "text": [
      "Страна с самым высоким процентом получивших оценку Grade A: Finland\n",
      "Страна с самым высоким процентом получивших оценку Grade B: Latvia\n",
      "Страна с самым высоким процентом получивших оценку Grade C: Myanmar\n",
      "Страна с самым высоким процентом получивших оценку B2: Cote D'ivoire\n",
      "Страна с самым высоким процентом получивших оценку Fail: \f",
      "Laos\n"
     ]
    }
   ],
   "source": [
    "import pandas as pd\n",
    "\n",
    "# Чтение CSV-файла\n",
    "df = pd.read_csv('/Users/yubazhanova/Desktop/Python project/cambridge csv страны/advanced.csv')\n",
    "\n",
    "# Удаление пустых строк\n",
    "df.dropna(inplace=True)\n",
    "\n",
    "# Нахождение страны с самым высоким процентом получивших оценку Grade A\n",
    "max_grade_A_country = df.loc[df['Grade A'].idxmax()]['Location']\n",
    "\n",
    "# Нахождение страны с самым высоким процентом получивших оценку Grade B\n",
    "max_grade_B_country = df.loc[df['Grade B'].idxmax()]['Location']\n",
    "\n",
    "# Нахождение страны с самым высоким процентом получивших оценку Grade С\n",
    "max_grade_С_country = df.loc[df['Grade C'].idxmax()]['Location']\n",
    "\n",
    "# Нахождение страны с самым высоким процентом получивших оценку B2\n",
    "max_grade_B2_country = df.loc[df['B2'].idxmax()]['Location']\n",
    "\n",
    "# Нахождение страны с самым высоким процентом получивших оценку Fail\n",
    "max_grade_Fail_country = df.loc[df['Fail'].idxmax()]['Location']\n",
    "\n",
    "print(f\"Страна с самым высоким процентом получивших оценку Grade A: {max_grade_A_country}\")\n",
    "print(f\"Страна с самым высоким процентом получивших оценку Grade B: {max_grade_B_country}\")\n",
    "print(f\"Страна с самым высоким процентом получивших оценку Grade C: {max_grade_С_country}\")\n",
    "\n",
    "print(f\"Страна с самым высоким процентом получивших оценку B2: {max_grade_B2_country}\")\n",
    "print(f\"Страна с самым высоким процентом получивших оценку Fail: {max_grade_Fail_country}\")"
   ]
  },
  {
   "cell_type": "markdown",
   "id": "fa6af3cd",
   "metadata": {},
   "source": [
    "Выведем топ-10 стран по убыванию доли получивших Grade A на экзамене C1 Advanced в 2022 году"
   ]
  },
  {
   "cell_type": "code",
   "execution_count": 22,
   "id": "71b25499",
   "metadata": {},
   "outputs": [
    {
     "name": "stdout",
     "output_type": "stream",
     "text": [
      "Location\n",
      "Finland            0.50\n",
      "Vietnam            0.45\n",
      "Slovenia           0.39\n",
      "Austria            0.29\n",
      "Slovak Republic    0.27\n",
      "Serbia             0.27\n",
      "Romania            0.27\n",
      "Latvia             0.27\n",
      "Sweden             0.26\n",
      "Name: Grade A, dtype: float64\n"
     ]
    }
   ],
   "source": [
    "import pandas as pd\n",
    "\n",
    "# Чтение датасета из CSV\n",
    "df = pd.read_csv('/Users/yubazhanova/Desktop/Python project/cambridge csv страны/advanced.csv')\n",
    "\n",
    "# Удаление пустых строк\n",
    "df.dropna(inplace=True)\n",
    "\n",
    "# Группировка данных по стране и сортировка по убыванию Grade A\n",
    "sorted_countries_A = df.groupby('Location')['Grade A'].sum().sort_values(ascending=False)\n",
    "\n",
    "# Вывод списка стран в порядке убывания доли получивших Grade A\n",
    "print(sorted_countries_A[0:9])"
   ]
  },
  {
   "cell_type": "code",
   "execution_count": null,
   "id": "12d21c0b",
   "metadata": {},
   "outputs": [],
   "source": [
    "Выведем топ-10 стран по убыванию доли получивших Grade B на экзамене C1 Advanced в 2022 году"
   ]
  },
  {
   "cell_type": "code",
   "execution_count": 24,
   "id": "892b62c0",
   "metadata": {},
   "outputs": [
    {
     "name": "stdout",
     "output_type": "stream",
     "text": [
      "Location\n",
      "Latvia                  0.47\n",
      "United Arab Emirates    0.46\n",
      "Guadeloupe              0.44\n",
      "Slovenia                0.36\n",
      "Georgia                 0.35\n",
      "Croatia                 0.32\n",
      "Montenegro              0.31\n",
      "Poland                  0.30\n",
      "Czech Republic          0.30\n",
      "Name: Grade B, dtype: float64\n"
     ]
    }
   ],
   "source": [
    "import pandas as pd\n",
    "\n",
    "# Чтение датасета из CSV\n",
    "df = pd.read_csv('/Users/yubazhanova/Desktop/Python project/cambridge csv страны/advanced.csv')\n",
    "\n",
    "# Удаление пустых строк\n",
    "df.dropna(inplace=True)\n",
    "\n",
    "# Группировка данных по стране и сортировка по убыванию Grade B\n",
    "sorted_countries_B = df.groupby('Location')['Grade B'].sum().sort_values(ascending=False)\n",
    "\n",
    "# Вывод списка стран в порядке убывания доли получивших Grade B\n",
    "print(sorted_countries_B[0:9])"
   ]
  },
  {
   "cell_type": "code",
   "execution_count": null,
   "id": "9d2e2987",
   "metadata": {},
   "outputs": [],
   "source": [
    "Выведем топ-10 стран по возрастанию доли получивших Grade C на экзамене C1 Advanced в 2022 году"
   ]
  },
  {
   "cell_type": "code",
   "execution_count": 32,
   "id": "5ae868a2",
   "metadata": {},
   "outputs": [
    {
     "name": "stdout",
     "output_type": "stream",
     "text": [
      "Location\n",
      "New Zealand             0.11\n",
      "\f",
      "Laos                   0.12\n",
      "India                   0.19\n",
      "Latvia                  0.20\n",
      "Slovenia                0.22\n",
      "Finland                 0.23\n",
      "Cote D'ivoire           0.24\n",
      "Colombia                0.26\n",
      "United Arab Emirates    0.27\n",
      "Name: Grade C, dtype: float64\n"
     ]
    }
   ],
   "source": [
    "import pandas as pd\n",
    "\n",
    "# Чтение датасета из CSV\n",
    "df = pd.read_csv('/Users/yubazhanova/Desktop/Python project/cambridge csv страны/advanced.csv')\n",
    "\n",
    "# Удаление пустых строк\n",
    "df.dropna(inplace=True)\n",
    "\n",
    "# Группировка данных по стране и сортировка по возрастанию доли получивших Grade С\n",
    "sorted_countries_C = df.groupby('Location')['Grade C'].sum().sort_values(ascending=True)\n",
    "\n",
    "# Вывод списка стран в порядке убывания доли получивших Grade С\n",
    "print(sorted_countries_C[0:9])"
   ]
  },
  {
   "cell_type": "code",
   "execution_count": null,
   "id": "3d199cfd",
   "metadata": {},
   "outputs": [],
   "source": [
    "Выведем топ-10 стран по возрастанию доли получивших B2 на экзамене C1 Advanced в 2022 году"
   ]
  },
  {
   "cell_type": "code",
   "execution_count": 33,
   "id": "dbd51393",
   "metadata": {},
   "outputs": [
    {
     "name": "stdout",
     "output_type": "stream",
     "text": [
      "Location\n",
      "Angola       0.00\n",
      "Finland      0.00\n",
      "Slovenia     0.03\n",
      "Norway       0.03\n",
      "Vietnam      0.05\n",
      "Mauritius    0.06\n",
      "Latvia       0.07\n",
      "Austria      0.08\n",
      "Croatia      0.08\n",
      "Name: B2, dtype: float64\n"
     ]
    }
   ],
   "source": [
    "import pandas as pd\n",
    "\n",
    "# Чтение датасета из CSV\n",
    "df = pd.read_csv('/Users/yubazhanova/Desktop/Python project/cambridge csv страны/advanced.csv')\n",
    "\n",
    "# Удаление пустых строк\n",
    "df.dropna(inplace=True)\n",
    "\n",
    "# Группировка данных по стране и сортировка по возрастанию доли получивших B2\n",
    "sorted_countries_B2 = df.groupby('Location')['B2'].sum().sort_values(ascending=True)\n",
    "\n",
    "# Вывод списка стран в порядке убывания доли получивших B2\n",
    "print(sorted_countries_B2[0:9])"
   ]
  },
  {
   "cell_type": "code",
   "execution_count": null,
   "id": "8cb61e77",
   "metadata": {},
   "outputs": [],
   "source": [
    "Выведем топ-20 стран по возрастанию доли получивших B2 на экзамене C1 Advanced в 2022 году"
   ]
  },
  {
   "cell_type": "code",
   "execution_count": 34,
   "id": "4c243006",
   "metadata": {},
   "outputs": [
    {
     "name": "stdout",
     "output_type": "stream",
     "text": [
      "Location\n",
      "Latvia                  0.00\n",
      "United Arab Emirates    0.00\n",
      "Slovenia                0.00\n",
      "Reunion                 0.00\n",
      "Philippines             0.00\n",
      "Norway                  0.00\n",
      "New Zealand             0.00\n",
      "Myanmar                 0.00\n",
      "Montenegro              0.00\n",
      "Mauritius               0.00\n",
      "Kenya                   0.00\n",
      "Guadeloupe              0.00\n",
      "Georgia                 0.00\n",
      "Finland                 0.00\n",
      "Vietnam                 0.00\n",
      "Austria                 0.00\n",
      "Portugal                0.01\n",
      "Sweden                  0.01\n",
      "Switzerland             0.01\n",
      "Name: Fail, dtype: float64\n"
     ]
    }
   ],
   "source": [
    "import pandas as pd\n",
    "\n",
    "# Чтение датасета из CSV\n",
    "df = pd.read_csv('/Users/yubazhanova/Desktop/Python project/cambridge csv страны/advanced.csv')\n",
    "\n",
    "# Удаление пустых строк\n",
    "df.dropna(inplace=True)\n",
    "\n",
    "# Группировка данных по стране и сортировка по возрастанию доли получивших Fail\n",
    "sorted_countries_F = df.groupby('Location')['Fail'].sum().sort_values(ascending=True)\n",
    "\n",
    "# Вывод списка стран в порядке убывания доли получивших Fail\n",
    "print(sorted_countries_F[0:19])"
   ]
  },
  {
   "cell_type": "markdown",
   "id": "c73171e5",
   "metadata": {},
   "source": [
    "Сравним со списком стран с лучшим знанием английского языка по версии EF (https://www.ef.com/assetscdn/WIBIwq6RdJvcD9bc8RMd/cefcom-epi-site/reports/2023/ef-epi-2023-english.pdf?_gl=1*nn8fae*_gcl_au*NzQ5OTQxMDQzLjE3MTc5NDExMjE.*FPAU*NzQ5OTQxMDQzLjE3MTc5NDExMjE.*_ga*MjQwMTUwNTIzLjE2ODYyMjY5MDc.*_ga_25YNHDZQQP*MTcxNzk0MTEyMC4xLjAuMTcxNzk0MTEyMC4wLjAuMTEwODIwNzUzNg..&_ga=2.77690903.2071188137.1717941121-240150523.1686226907&utm_source=yandex.ru&utm_medium=organic)\n"
   ]
  },
  {
   "cell_type": "markdown",
   "id": "d5bf924f",
   "metadata": {},
   "source": [
    "Некоторые страны из приведенных выше списков действительно находятся среди первых 30 стран, однако помимо них есть небольшие страны, где высокий процент успешной сдачи экзамена скорее свидетельствует о небольшом количестве участников экзамена, чем о высоком уровне владения английским языком в стране. Учитывая, что в некоторых странах экзамены не проводятся, и люди могут сдавать экзамены в разных странах, оценки за эти экзамены не могут служить точным показателем уровня владения языком в той или иной стране, но тем не менее эти данные соотносятся между собой."
   ]
  },
  {
   "cell_type": "code",
   "execution_count": null,
   "id": "06ef658e",
   "metadata": {},
   "outputs": [],
   "source": []
  }
 ],
 "metadata": {
  "kernelspec": {
   "display_name": "Python 3 (ipykernel)",
   "language": "python",
   "name": "python3"
  },
  "language_info": {
   "codemirror_mode": {
    "name": "ipython",
    "version": 3
   },
   "file_extension": ".py",
   "mimetype": "text/x-python",
   "name": "python",
   "nbconvert_exporter": "python",
   "pygments_lexer": "ipython3",
   "version": "3.11.4"
  }
 },
 "nbformat": 4,
 "nbformat_minor": 5
}
